{
 "cells": [
  {
   "cell_type": "markdown",
   "metadata": {},
   "source": [
    "# Basic for Python Programming\n",
    "this notebook is created by me from the book \"Data Structure and Algorithm\" by M.T.Goldrich"
   ]
  },
  {
   "cell_type": "code",
   "execution_count": 5,
   "metadata": {},
   "outputs": [],
   "source": [
    "#for loop\n",
    "data = 12, 13, 41,11"
   ]
  },
  {
   "cell_type": "code",
   "execution_count": 6,
   "metadata": {},
   "outputs": [
    {
     "name": "stdout",
     "output_type": "stream",
     "text": [
      "41\n"
     ]
    }
   ],
   "source": [
    "biggest= data[0]\n",
    "for val in data:\n",
    "    if val> biggest:\n",
    "        biggest=val\n",
    "        \n",
    "print(biggest)"
   ]
  },
  {
   "cell_type": "markdown",
   "metadata": {},
   "source": [
    "# we could use while loop to do similar task but in this case we dont need to manage an index of list explicitely or author\n",
    "# a boolean condition so we can use for loop where for loop is not applying"
   ]
  },
  {
   "cell_type": "code",
   "execution_count": 7,
   "metadata": {},
   "outputs": [],
   "source": [
    "#range generates series of possible index over 1 to n.... to get the loop over each index we use a python built-in function \n",
    "# range\n",
    "big_index= 0\n",
    "for j in range(len(data)):\n",
    "    if data[j]> data[big_index]:\n",
    "        big_index= j"
   ]
  },
  {
   "cell_type": "code",
   "execution_count": 8,
   "metadata": {},
   "outputs": [
    {
     "name": "stdout",
     "output_type": "stream",
     "text": [
      "2\n"
     ]
    }
   ],
   "source": [
    "print(big_index)"
   ]
  },
  {
   "cell_type": "code",
   "execution_count": 17,
   "metadata": {},
   "outputs": [],
   "source": [
    "#method are non inbuilt function that we define in order to do particular task\n",
    "# to get count of occurance of a number in a dataset\n",
    "def count(data, target):\n",
    "    n=0\n",
    "    for item in data:\n",
    "        if item == target:\n",
    "            n+=1\n",
    "    return n"
   ]
  },
  {
   "cell_type": "code",
   "execution_count": 18,
   "metadata": {},
   "outputs": [
    {
     "name": "stdout",
     "output_type": "stream",
     "text": [
      "0\n"
     ]
    }
   ],
   "source": [
    "Data= 3,3,3,3,4,223\n",
    "a=count(Data, '3')\n",
    "print(a)"
   ]
  },
  {
   "cell_type": "code",
   "execution_count": 14,
   "metadata": {},
   "outputs": [],
   "source": [
    "#using multiple return\n",
    "def count(data, target):\n",
    "    for item in data:\n",
    "        if item == target:\n",
    "            return True\n",
    "    return False"
   ]
  },
  {
   "cell_type": "code",
   "execution_count": 20,
   "metadata": {},
   "outputs": [],
   "source": [
    "# Formal parameter: In the context of function signature, the identifiers used to describe the expected parameter is called formal param.\n",
    "# Actual Parameter: The objects sent by the caller invoking function is called actual param.\n",
    "# Assignment Statement: \n",
    "\n",
    "\n",
    "# mutable parameter: Python parameter passing model has additional implications when a parameter is a mutable object\n",
    "#mutable object: The object that be be changed or modified.\n",
    "\n",
    "#mutable params\n",
    "def scale(data, factor):\n",
    "    for j in range(len(data)):\n",
    "          data[j]*=factor\n"
   ]
  },
  {
   "cell_type": "code",
   "execution_count": 24,
   "metadata": {},
   "outputs": [],
   "source": [
    "#default parameter values within a function\n",
    "\n",
    "def compute_gpa(grades, points={'A+': 4.0, 'A':4.0, 'A-':3.67, 'B+': 3.33, 'B':3.0, 'B-':2.67, 'C+':2.33,\n",
    "                                'C':2.0, 'C-':1.67,'D+':1.33, 'D':1.0,'F':0.0}):\n",
    "    num_courses=0\n",
    "    total_points=0\n",
    "    for g in grades:\n",
    "        if g in points:\n",
    "            num_courses+=1\n",
    "            total_points+= points[g]\n",
    "    return total_points/ num_courses"
   ]
  },
  {
   "cell_type": "code",
   "execution_count": null,
   "metadata": {},
   "outputs": [],
   "source": [
    "#by default input function use string as return.\n",
    "#to take iinteger or float \n",
    "results= int(input('give your string input'))"
   ]
  },
  {
   "cell_type": "code",
   "execution_count": null,
   "metadata": {},
   "outputs": [],
   "source": [
    "#raising exception\n",
    "#to compute  sqrt python uses this exceptions\n",
    "def sqrt(x):\n",
    "    if not isinstance(x, (int, float)):\n",
    "        raise TypeError('x must be numeric')\n",
    "    elif x<0  \n",
    "        raise ValueError('x can not be negetive')\n",
    "        \n",
    "    "
   ]
  },
  {
   "cell_type": "markdown",
   "metadata": {},
   "source": [
    "#real time object checking \n",
    "#isinstance(obj, cls)"
   ]
  },
  {
   "cell_type": "code",
   "execution_count": null,
   "metadata": {},
   "outputs": [],
   "source": [
    "# Generators\n",
    "def factors(n):                    #generators that compute factors\n",
    "    for k in range(1,n+1):\n",
    "        if n%k==0:                  #divides evenly thus k is a factor\n",
    "            yield k                 #yield this factors as next result\n",
    "\n",
    "#we use 'yeild' instead of return to define a result for a generetors."
   ]
  },
  {
   "cell_type": "code",
   "execution_count": null,
   "metadata": {},
   "outputs": [],
   "source": [
    "#generators\n",
    "def factors(n):\n",
    "    k=1\n",
    "    while k*k<n:     #k< sqrt(n)\n",
    "        if n%k==0:\n",
    "            yeild k\n",
    "            yeild n//k\n",
    "        k+=1\n",
    "    if k*k ==n:                   #special case if n is a perfect square\n",
    "        \n",
    "        yeild k"
   ]
  },
  {
   "cell_type": "code",
   "execution_count": null,
   "metadata": {},
   "outputs": [],
   "source": [
    "#fibonacci\n",
    "def fibonacci():\n",
    "    a=0\n",
    "    b=1\n",
    "    while True:             #keep going\n",
    "        yeild a            #report value a during this pass\n",
    "        future= a+ b\n",
    "        a = b               #this will be next value reported\n",
    "        b = future                #and subsequently this"
   ]
  },
  {
   "cell_type": "code",
   "execution_count": null,
   "metadata": {},
   "outputs": [],
   "source": [
    "#control expressing\n",
    "# expr 1 if something else expr 2\n",
    "\n",
    "# sending absolute value of a number into a function without using function 'abs'\n",
    "\n",
    "\n",
    "# 1\n",
    "if n>0:\n",
    "    param=n\n",
    "else:\n",
    "    param=-n\n",
    "result= foo(param)\n",
    "\n",
    "\n",
    "\n",
    "# 2 (using control expression we can make this of two lines)\n",
    "param =n if n>0 else -n\n",
    "result= foo (param)"
   ]
  },
  {
   "cell_type": "code",
   "execution_count": null,
   "metadata": {},
   "outputs": [],
   "source": [
    "#comprehensive syntax\n",
    "[expression for value in iterable if condition]\n",
    "#example \n",
    "squares=[]\n",
    "for k in range(1, n+1):\n",
    "    squares.append(k*k)\n",
    "    \n",
    "#example (with list comprehension)\n",
    "squares= [k*k for k in range (1, n+1)]\n",
    "# example 2\n",
    "factors= [k for k in range (1, n+1) if n%k==0]\n",
    "\n",
    "\n",
    "\n",
    "\n",
    "#types of comprehension\n",
    "[k*k for k in range (1, n+1)]   # list comprehension\n",
    "{k*k for k in range (1, n+1)}    # set comprehension\n",
    "(k*k for k in range (1, n+1))    # generator comprehension\n",
    "{k: k*k for k in range (1, n+1)}  # dict comprehension"
   ]
  },
  {
   "cell_type": "code",
   "execution_count": null,
   "metadata": {},
   "outputs": [],
   "source": [
    "#psuedo number generator \n",
    "next = (a*current+b)% n    # a,b,n appropriately choosen integer\n",
    "# the place to start for a psuedo number generator  is called 'seed' for random number generation it needs always a plac\n",
    "# to start"
   ]
  }
 ],
 "metadata": {
  "kernelspec": {
   "display_name": "Python 3",
   "language": "python",
   "name": "python3"
  },
  "language_info": {
   "codemirror_mode": {
    "name": "ipython",
    "version": 3
   },
   "file_extension": ".py",
   "mimetype": "text/x-python",
   "name": "python",
   "nbconvert_exporter": "python",
   "pygments_lexer": "ipython3",
   "version": "3.5.2"
  }
 },
 "nbformat": 4,
 "nbformat_minor": 2
}
